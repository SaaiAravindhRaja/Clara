{
 "cells": [
  {
   "cell_type": "code",
   "execution_count": 1,
   "id": "1d786330",
   "metadata": {},
   "outputs": [
    {
     "data": {
      "text/plain": [
       "True"
      ]
     },
     "execution_count": 1,
     "metadata": {},
     "output_type": "execute_result"
    }
   ],
   "source": [
    "from typing import TypedDict, Annotated, Sequence\n",
    "import operator\n",
    "from langchain_openai import ChatOpenAI\n",
    "from langchain_core.messages import HumanMessage, BaseMessage, AIMessage, ToolMessage, SystemMessage\n",
    "from langchain_core.tools import tool\n",
    "from langgraph.graph.message import add_messages\n",
    "from langgraph.graph import StateGraph, START, END\n",
    "from langgraph.prebuilt import ToolNode\n",
    "from orgo import Computer\n",
    "import os\n",
    "from dotenv import load_dotenv\n",
    "\n",
    "load_dotenv()\n"
   ]
  },
  {
   "cell_type": "code",
   "execution_count": 2,
   "id": "4559719c",
   "metadata": {},
   "outputs": [],
   "source": [
    "from typing_extensions import TypedDict\n",
    "\n",
    "from typing import Annotated\n",
    "import operator\n",
    "\n",
    "class EventDetails(TypedDict):\n",
    "    title: str\n",
    "    date: str\n",
    "    time: str\n",
    "    duration: str\n",
    "    participants: Annotated[list[str], operator.add]\n",
    "    location: str\n",
    "    description: str\n",
    "\n",
    "class AgentState(TypedDict, total=False):\n",
    "    messages: Annotated[Sequence[BaseMessage], add_messages]\n",
    "\n",
    "eventDetails = EventDetails()\n"
   ]
  },
  {
   "cell_type": "code",
   "execution_count": 4,
   "id": "fc718ea5",
   "metadata": {},
   "outputs": [],
   "source": [
    "@tool\n",
    "def update_local_event(details: EventDetails):\n",
    "    \"\"\"Stores the details of the event for event creation later\"\"\"\n",
    "    global eventDetails\n",
    "    eventDetails = details\n",
    "    return f\"eventDetails has been updated successfully, The current content is:\\n {eventDetails} \"\n",
    "\n",
    "\n",
    "@tool\n",
    "def create_event() -> str:\n",
    "    \"\"\"\n",
    "    Call this function to create an event on google calendar once sufficient information is inside the state.\n",
    "    \"\"\"\n",
    "    comp = Computer()\n",
    "    comp.start()\n",
    "    # Open browser and navigate to Google Calendar\n",
    "    try:\n",
    "        comp.prompt(\"If not already open on google calendar, open browser and go to https://calendar.google.com\")\n",
    "    except:\n",
    "        return \"Error occured while creating event\"\n",
    "    return \"Event created on Google Calendar\"\n",
    "\n",
    "tools = [create_event, update_local_event]\n",
    "\n",
    "model = ChatOpenAI(model=\"gpt-4o\").bind_tools(tools)"
   ]
  },
  {
   "cell_type": "code",
   "execution_count": null,
   "id": "2c2fdd9a",
   "metadata": {},
   "outputs": [
    {
     "ename": "SyntaxError",
     "evalue": "invalid syntax (3132447887.py, line 26)",
     "output_type": "error",
     "traceback": [
      "\u001b[1;36m  Cell \u001b[1;32mIn[11], line 26\u001b[1;36m\u001b[0m\n\u001b[1;33m    if not state[]\u001b[0m\n\u001b[1;37m                 ^\u001b[0m\n\u001b[1;31mSyntaxError\u001b[0m\u001b[1;31m:\u001b[0m invalid syntax\n"
     ]
    }
   ],
   "source": [
    "def agent(state: AgentState) -> AgentState:\n",
    "    system_prompt = SystemMessage(content=f\"\"\"\n",
    "    You are an intelligent calendar assistant. Your job is to gather all necessary details to schedule an event, then call the provided @tool create_event(state: EventState) function to place it on Google Calendar.\n",
    "\n",
    "    1. Required fields: title, date, time, duration.\n",
    "    2. Optional fields: participants (guests), location, description.\n",
    "\n",
    "    Whenever you receive a user message:\n",
    "    - Merge any new facts into your internal EventState.\n",
    "    - If any required field is still missing, ask exactly one follow-up question to obtain it, e.g. “What time is the event?” or “How long will it last?”\n",
    "    - If all required fields are present but optional fields remain, ask one question at a time for any optional detail the user hasn't yet provided (they may reply “none” to skip).\n",
    "    - Do not ask about fields the user has already given.\n",
    "    \n",
    "    If any new information is recieved, use the \"update_local_event\" tool with the updated content\n",
    "\n",
    "    Once your EventState contains all required fields (title, date, time, duration), immediately call the tool:\n",
    "\n",
    "        @tool\n",
    "        def create_event() -> str:\n",
    "            \\\"\\\"\\\"Call this function to create an event on Google Calendar once sufficient information has been provided by the user.\\\"\\\"\\\"\n",
    "\n",
    "    and return its response (“Event created on Google Calendar”).\n",
    "\n",
    "    Always keep the conversation natural. Only call `create_event` exactly once, when you have everything you need.```\n",
    "\n",
    "    \"\"\")\n",
    "\n",
    "    if not state[\"messages\"]:\n",
    "        user_input = \"I'm ready to help you create an event. Please provide me the details\"\n",
    "        user_message = HumanMessage(content=user_input)\n",
    "    \n",
    "    all_messages = [system_prompt] + list(state[\"messages\"]) + [user_message]\n",
    "    # 1) Read user's natural language input\n",
    "    response = model.invoke(all_messages)\n",
    "\n",
    "    print(f\"\\n🤖 AI: {response.content}\")\n",
    "\n",
    "# If the model called any tools, list their names\n",
    "    if hasattr(response, \"tool_calls\") and response.tool_calls:\n",
    "        tool_names = [tc[\"name\"] for tc in response.tool_calls]\n",
    "        print(f\"🔧 USING TOOLS: {tool_names}\")\n",
    "    \n",
    "\n",
    "\n",
    "\n",
    "def check_complete(state: AgentState) -> dict[str, bool]:\n",
    "    \"\"\"\n",
    "    Check if required fields are all present.\n",
    "    \"\"\"\n",
    "    required = ('title', 'date', 'time', 'duration')\n",
    "    return all(state.get(f) for f in required)\n",
    "\n",
    "\n"
   ]
  },
  {
   "cell_type": "code",
   "execution_count": 88,
   "id": "7693c12a",
   "metadata": {},
   "outputs": [],
   "source": [
    "# -- 4. Build StateGraph --\n",
    "graph = StateGraph(EventState)\n",
    "\n",
    "graph.add_node(\"prompt_details\", prompt_details)\n",
    "graph.add_node(\"create_event\", create_event)\n",
    "\n",
    "graph.add_edge(START, \"prompt_details\")\n",
    "\n",
    "graph.add_edge(\"prompt_details\", \"create_event\")\n",
    "graph.add_conditional_edges(\n",
    "    \"prompt_details\",\n",
    "    check_complete,\n",
    "    path_map={True: \"create_event\", False: \"prompt_details\"}\n",
    ")\n",
    "graph.add_edge(\"create_event\", END)\n",
    "\n",
    "compiled = graph.compile()"
   ]
  },
  {
   "cell_type": "code",
   "execution_count": 84,
   "id": "d5d89fc9",
   "metadata": {},
   "outputs": [
    {
     "data": {
      "image/png": "[encoded data removed]",
      "text/plain": [
       "<IPython.core.display.Image object>"
      ]
     },
     "metadata": {},
     "output_type": "display_data"
    }
   ],
   "source": [
    "from IPython.display import Image, display\n",
    "\n",
    "display(Image(compiled.get_graph().draw_mermaid_png()))"
   ]
  },
  {
   "cell_type": "code",
   "execution_count": null,
   "id": "99df8274",
   "metadata": {},
   "outputs": [
    {
     "name": "stdout",
     "output_type": "stream",
     "text": [
      "Sorry, I didn't understand. Could you rephrase?\n",
      "Sorry, I didn't understand. Could you rephrase?\n"
     ]
    }
   ],
   "source": [
    "\n",
    "initial: EventState = {}\n",
    "result = compiled.invoke(initial)\n",
    "print(result)"
   ]
  },
  {
   "cell_type": "code",
   "execution_count": null,
   "id": "34b9ad46",
   "metadata": {},
   "outputs": [],
   "source": []
  }
 ],
 "metadata": {
  "kernelspec": {
   "display_name": "orgo-env",
   "language": "python",
   "name": "python3"
  },
  "language_info": {
   "codemirror_mode": {
    "name": "ipython",
    "version": 3
   },
   "file_extension": ".py",
   "mimetype": "text/x-python",
   "name": "python",
   "nbconvert_exporter": "python",
   "pygments_lexer": "ipython3",
   "version": "3.10.18"
  }
 },
 "nbformat": 4,
 "nbformat_minor": 5
}
