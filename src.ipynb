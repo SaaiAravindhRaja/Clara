{
 "cells": [
  {
   "cell_type": "code",
   "execution_count": 4,
   "id": "1d786330",
   "metadata": {},
   "outputs": [],
   "source": [
    "import orgo\n"
   ]
  },
  {
   "cell_type": "code",
   "execution_count": 7,
   "id": "5a85bf09",
   "metadata": {},
   "outputs": [
    {
     "name": "stdout",
     "output_type": "stream",
     "text": [
      "<module 'orgo' from 'd:\\\\nibras\\\\Applications\\\\Miniconda\\\\envs\\\\orgo-env\\\\lib\\\\site-packages\\\\orgo\\\\__init__.py'>\n"
     ]
    }
   ],
   "source": [
    "print(orgo)"
   ]
  }
 ],
 "metadata": {
  "kernelspec": {
   "display_name": "orgo-env",
   "language": "python",
   "name": "python3"
  },
  "language_info": {
   "codemirror_mode": {
    "name": "ipython",
    "version": 3
   },
   "file_extension": ".py",
   "mimetype": "text/x-python",
   "name": "python",
   "nbconvert_exporter": "python",
   "pygments_lexer": "ipython3",
   "version": "3.10.18"
  }
 },
 "nbformat": 4,
 "nbformat_minor": 5
}
